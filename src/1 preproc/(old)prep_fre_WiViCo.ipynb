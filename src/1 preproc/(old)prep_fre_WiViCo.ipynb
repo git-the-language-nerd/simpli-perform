{
 "cells": [
  {
   "cell_type": "code",
   "execution_count": 1,
   "metadata": {},
   "outputs": [],
   "source": [
    "## Imports\n",
    "import pandas as pd"
   ]
  },
  {
   "cell_type": "markdown",
   "metadata": {},
   "source": [
    "**HEADER LEVEL 1**"
   ]
  },
  {
   "cell_type": "code",
   "execution_count": 2,
   "metadata": {},
   "outputs": [
    {
     "data": {
      "text/html": [
       "<div>\n",
       "<style scoped>\n",
       "    .dataframe tbody tr th:only-of-type {\n",
       "        vertical-align: middle;\n",
       "    }\n",
       "\n",
       "    .dataframe tbody tr th {\n",
       "        vertical-align: top;\n",
       "    }\n",
       "\n",
       "    .dataframe thead th {\n",
       "        text-align: right;\n",
       "    }\n",
       "</style>\n",
       "<table border=\"1\" class=\"dataframe\">\n",
       "  <thead>\n",
       "    <tr style=\"text-align: right;\">\n",
       "      <th></th>\n",
       "      <th>wiki_sent</th>\n",
       "      <th>viki_sent</th>\n",
       "      <th>wiki (complex:0, simple:1)</th>\n",
       "      <th>viki  (complex:0, simple:1)</th>\n",
       "      <th>pair (0: simplification, 1: complexification)</th>\n",
       "    </tr>\n",
       "  </thead>\n",
       "  <tbody>\n",
       "    <tr>\n",
       "      <th>0</th>\n",
       "      <td>Catharanthus roseus La Pervenche de Madagascar...</td>\n",
       "      <td>La pervenche de Madagascar (nom commun), ou Ca...</td>\n",
       "      <td>0</td>\n",
       "      <td>0</td>\n",
       "      <td>0</td>\n",
       "    </tr>\n",
       "    <tr>\n",
       "      <th>1</th>\n",
       "      <td>Claude de France (Romorantin, 13 octobre 1499 ...</td>\n",
       "      <td>Claude de France est née le 13 octobre 1499 à ...</td>\n",
       "      <td>0</td>\n",
       "      <td>1</td>\n",
       "      <td>0</td>\n",
       "    </tr>\n",
       "    <tr>\n",
       "      <th>2</th>\n",
       "      <td>Hippocrate de Kos Hippocrate de Kos, ou simple...</td>\n",
       "      <td>Hippocrate de Cos (surnommé Hippocrate le Gran...</td>\n",
       "      <td>0</td>\n",
       "      <td>0</td>\n",
       "      <td>0</td>\n",
       "    </tr>\n",
       "    <tr>\n",
       "      <th>3</th>\n",
       "      <td>‌L'ASM Clermont Auvergne, anciennement Associa...</td>\n",
       "      <td>L'ASM Clermont Auvergne, anciennement AS Montf...</td>\n",
       "      <td>0</td>\n",
       "      <td>0</td>\n",
       "      <td>0</td>\n",
       "    </tr>\n",
       "    <tr>\n",
       "      <th>4</th>\n",
       "      <td>‌L'ASM Clermont Auvergne, anciennement Associa...</td>\n",
       "      <td>L'ASM Clermont Auvergne, anciennement AS Montf...</td>\n",
       "      <td>0</td>\n",
       "      <td>0</td>\n",
       "      <td>0</td>\n",
       "    </tr>\n",
       "  </tbody>\n",
       "</table>\n",
       "</div>"
      ],
      "text/plain": [
       "                                           wiki_sent  \\\n",
       "0  Catharanthus roseus La Pervenche de Madagascar...   \n",
       "1  Claude de France (Romorantin, 13 octobre 1499 ...   \n",
       "2  Hippocrate de Kos Hippocrate de Kos, ou simple...   \n",
       "3  ‌L'ASM Clermont Auvergne, anciennement Associa...   \n",
       "4  ‌L'ASM Clermont Auvergne, anciennement Associa...   \n",
       "\n",
       "                                           viki_sent  \\\n",
       "0  La pervenche de Madagascar (nom commun), ou Ca...   \n",
       "1  Claude de France est née le 13 octobre 1499 à ...   \n",
       "2  Hippocrate de Cos (surnommé Hippocrate le Gran...   \n",
       "3  L'ASM Clermont Auvergne, anciennement AS Montf...   \n",
       "4  L'ASM Clermont Auvergne, anciennement AS Montf...   \n",
       "\n",
       "   wiki (complex:0, simple:1)  viki  (complex:0, simple:1)  \\\n",
       "0                           0                            0   \n",
       "1                           0                            1   \n",
       "2                           0                            0   \n",
       "3                           0                            0   \n",
       "4                           0                            0   \n",
       "\n",
       "   pair (0: simplification, 1: complexification)  \n",
       "0                                              0  \n",
       "1                                              0  \n",
       "2                                              0  \n",
       "3                                              0  \n",
       "4                                              0  "
      ]
     },
     "execution_count": 2,
     "metadata": {},
     "output_type": "execute_result"
    }
   ],
   "source": [
    "## Get the aligned sentences\n",
    "\n",
    "file_path = '../../../datasets_original/wivico_dataset_v2/wivico_dataset_v2.tsv'\n",
    "\n",
    "df = pd.read_csv(file_path, sep='\\t')\n",
    "\n",
    "df.head()\n",
    "\n"
   ]
  },
  {
   "cell_type": "code",
   "execution_count": 3,
   "metadata": {},
   "outputs": [
    {
     "name": "stdout",
     "output_type": "stream",
     "text": [
      "<class 'pandas.core.frame.DataFrame'>\n",
      "RangeIndex: 46525 entries, 0 to 46524\n",
      "Data columns (total 5 columns):\n",
      " #   Column                                         Non-Null Count  Dtype \n",
      "---  ------                                         --------------  ----- \n",
      " 0   wiki_sent                                      46525 non-null  object\n",
      " 1   viki_sent                                      46525 non-null  object\n",
      " 2   wiki (complex:0, simple:1)                     46525 non-null  int64 \n",
      " 3   viki  (complex:0, simple:1)                    46525 non-null  int64 \n",
      " 4   pair (0: simplification, 1: complexification)  46525 non-null  int64 \n",
      "dtypes: int64(3), object(2)\n",
      "memory usage: 1.8+ MB\n"
     ]
    }
   ],
   "source": [
    "df.info()"
   ]
  },
  {
   "cell_type": "code",
   "execution_count": 11,
   "metadata": {},
   "outputs": [
    {
     "name": "stdout",
     "output_type": "stream",
     "text": [
      "<class 'pandas.core.frame.DataFrame'>\n",
      "Int64Index: 20425 entries, 1 to 46519\n",
      "Data columns (total 5 columns):\n",
      " #   Column                                         Non-Null Count  Dtype \n",
      "---  ------                                         --------------  ----- \n",
      " 0   wiki_sent                                      20425 non-null  object\n",
      " 1   viki_sent                                      20425 non-null  object\n",
      " 2   wiki (complex:0, simple:1)                     20425 non-null  int64 \n",
      " 3   viki  (complex:0, simple:1)                    20425 non-null  int64 \n",
      " 4   pair (0: simplification, 1: complexification)  20425 non-null  int64 \n",
      "dtypes: int64(3), object(2)\n",
      "memory usage: 957.4+ KB\n"
     ]
    }
   ],
   "source": [
    "df2 = df[(df['wiki (complex:0, simple:1)'] == 0) & (df['viki  (complex:0, simple:1)'] == 1) & (df['pair (0: simplification, 1: complexification)'] == 0)]\n",
    "\n",
    "df2.info()\n"
   ]
  },
  {
   "cell_type": "code",
   "execution_count": 12,
   "metadata": {},
   "outputs": [
    {
     "name": "stdout",
     "output_type": "stream",
     "text": [
      "ORIG:  Le canal de Panama (espagnol : canal de Panamá) est un canal maritime de 80 km de long, qui traverse l’isthme de Panama en Amérique centrale, reliant l’océan Pacifique et l’océan Atlantique.\n",
      "SIMP:  Le canal de Panamá est un canal traversant l’isthme de Panamá en Amérique centrale.\n",
      "ORIG:  Révélé au grand public en 2007 dans le rôle de Renaud Lepic dans la série télévisée Fais pas ci, fais pas ça, il est récompensé en 2013 par le César du meilleur acteur dans un second rôle pour sa prestation dans la comédie Le Prénom, adaptation de la pièce de théâtre éponyme.  En juin 2017, il obtient le Prix Beaumarchais du meilleur comédien pour sa prestation dans La Garçonnière au théâtre de Paris.\n",
      "SIMP:  Il est principalement connu pour avoir jouer dans \"Fais pas ci, fais pas ça où il interprète le rôle de Renaud Lepic. Il a reçu en 2013, le césar du meilleur acteur dans un second rôle pour sa prestation dans le film Le prénom et en 2017, le Prix Beaumarchais lors du Théâtre de Paris.\n",
      "ORIG:  Gerboise rouge est le nom de code d'un essai nucléaire français atmosphérique tiré le 27 décembre 1960 à Reggane en Algérie française. Il s'agit du troisième essai nucléaire français, après Gerboise bleue et Gerboise blanche, complétant les couleurs du drapeau français.\n",
      "SIMP:  Gerboise rouge est le nom de code d'un essai nucléaire français atmosphérique tiré le 27 décembre 1960 à Reggane en Algérie française.\n",
      "ORIG:  Constantin Brâncuși (/konstanˈtin brɨnˈkuʃʲ/ Écouter), souvent désigné en français par son seul patronyme, Brancusi, né le 19 février 1876 à Hobița (ro), dans la commune de PeștișaniPeștișani, dans le județ de Gorj, en Principauté de Roumanie, et mort le 16 mars 1957 à Paris (France), est un sculpteur roumain naturalisé français (le 15 juin 1952),, qui est l'un des plus influents du début du XXe siècle.\n",
      "SIMP:  Brancusi (de son vrai nom Constantin Brâncuși) est un sculpteur, né le 19 février 1876 à Hobița, en Roumanie, et mort le 16 mars 1957, à Paris.\n",
      "ORIG:  Héméra ou Héméré est une divinité primordiale dans la mythologie grecque de l'Antiquité.\n",
      "SIMP:  Dans la mythologie grecque, Héméra était la déesse du Jour.\n"
     ]
    }
   ],
   "source": [
    "for index, row in df2.sample(5).iterrows():\n",
    "    print(\"ORIG: \", row[\"wiki_sent\"])\n",
    "    print(\"SIMP: \", row[\"viki_sent\"])"
   ]
  }
 ],
 "metadata": {
  "kernelspec": {
   "display_name": "Python 3.10.6 64-bit",
   "language": "python",
   "name": "python3"
  },
  "language_info": {
   "codemirror_mode": {
    "name": "ipython",
    "version": 3
   },
   "file_extension": ".py",
   "mimetype": "text/x-python",
   "name": "python",
   "nbconvert_exporter": "python",
   "pygments_lexer": "ipython3",
   "version": "3.8.13"
  },
  "orig_nbformat": 4,
  "vscode": {
   "interpreter": {
    "hash": "26de051ba29f2982a8de78e945f0abaf191376122a1563185a90213a26c5da77"
   }
  }
 },
 "nbformat": 4,
 "nbformat_minor": 2
}
