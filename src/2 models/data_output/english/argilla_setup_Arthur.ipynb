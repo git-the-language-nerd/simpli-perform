{
 "cells": [
  {
   "cell_type": "code",
   "execution_count": 1,
   "metadata": {},
   "outputs": [
    {
     "name": "stderr",
     "output_type": "stream",
     "text": [
      "/Users/Dagobert/miniforge3/envs/th24/lib/python3.12/site-packages/tqdm/auto.py:21: TqdmWarning: IProgress not found. Please update jupyter and ipywidgets. See https://ipywidgets.readthedocs.io/en/stable/user_install.html\n",
      "  from .autonotebook import tqdm as notebook_tqdm\n"
     ]
    },
    {
     "name": "stdout",
     "output_type": "stream",
     "text": [
      "Token is valid (permission: write).\n",
      "Your token has been saved in your configured git credential helpers (osxkeychain,store).\n",
      "Your token has been saved to /Users/Dagobert/.cache/huggingface/token\n",
      "Login successful\n"
     ]
    }
   ],
   "source": [
    "import huggingface_hub\n",
    "!git config --global credential.helper store\n",
    "huggingface_hub.login(\"\", add_to_git_credential=True)"
   ]
  },
  {
   "cell_type": "code",
   "execution_count": 2,
   "metadata": {},
   "outputs": [],
   "source": [
    "import argilla as rg\n",
    "\n",
    "client = rg.Argilla(\n",
    "    api_url=\"https://dagobert42-speech-text-classification.hf.space\",\n",
    "    api_key=\"\"\n",
    "    )"
   ]
  },
  {
   "cell_type": "code",
   "execution_count": 3,
   "metadata": {},
   "outputs": [],
   "source": [
    "task = \"\"\"Die Aufgabe besteht darin, die Beispielsätze danach zu kategorisieren, ob diese ursprünglich in einem Podcast gesprochen oder in einem Artikel oder Blog geschrieben worden sind.\n",
    "\n",
    "**Wichtig:**\n",
    "Bitte lies dir zunächst einmal gründlich die Richtlinien/Guidelines am Ende dieser Seite durch.\"\"\"\n",
    "guide = \"\"\"Vielen Dank, dass ihr euch Zeit nehmt, an dieser Umfrage teilzunehmen!\n",
    "\n",
    "In meiner Masterarbeit geht es um Unterschiede zwischen gesprochener und geschriebener Sprache. Dieser Datensatz enthält Textbeispiele aus Podcast-Transkripten, Zeitungsartikeln und Blogs. Als grobes Ziel sollte jeder Teilnehmer der Umfrage 50 Beispiele kategorisieren, was voraussichtlich um die 10 Minuten dauert.\n",
    "\n",
    "Es hilft natürlich auch viel, wenn ihr es schafft, mehr als 50 Beispiele zu kategorisieren. Bitte nehmt euch dabei aber immer in Ruhe Zeit. Geratene oder hastig gegebene Antworten verfälschen nur das Gesamtergebnis.\n",
    "\n",
    "Alle Teilnehmer können den Datensatz parallel bearbeiten. Ein Textbeispiel ist fertig bearbeitet, sobald mindestens drei verschiedene Teilnehmer ihm ein Label gegeben haben. Mit einem Klick auf den Balken können der persönliche und gesamtheitliche Fortschritt eingesehen werden.\n",
    "\n",
    "Es gibt keine falsche oder richtige Vorgehensweise bei dieser Aufgabe. Es ist gut möglich, dass sich die Textbeispiele nicht immer klar einordnen lassen. Versucht also einfach, die Beispiele so gut es geht zuzuordnen.\"\"\"\n",
    "settings = rg.Settings(\n",
    "    guidelines=guide,\n",
    "    fields=[\n",
    "        rg.TextField(\n",
    "            name=\"task\",\n",
    "            title=\"Aufgabe\",\n",
    "            use_markdown=True,\n",
    "        ),\n",
    "        rg.TextField(\n",
    "            name=\"example\",\n",
    "            title=\"Beispielsatz\",\n",
    "            use_markdown=False,\n",
    "        )\n",
    "    ],\n",
    "    questions=[\n",
    "        rg.LabelQuestion(\n",
    "            name=\"label_question\",\n",
    "            title=\"In welche Kategorie passt dieser Satz am besten?\",\n",
    "            labels=[\"gesprochen\", \"geschrieben\"],\n",
    "        )\n",
    "    ],\n",
    "    metadata=[\n",
    "        rg.TermsMetadataProperty(\n",
    "            name=\"original_label\",\n",
    "            options=[\"gesprochen\", \"geschrieben\"],\n",
    "            visible_for_annotators=False\n",
    "        )\n",
    "    ],\n",
    "    distribution=rg.TaskDistribution(min_submitted=3)\n",
    ")"
   ]
  },
  {
   "cell_type": "code",
   "execution_count": 4,
   "metadata": {},
   "outputs": [
    {
     "data": {
      "text/plain": [
       "Dataset(id=UUID('deb4cedc-c998-4e16-81b4-d97f22103866') inserted_at=datetime.datetime(2024, 8, 26, 8, 28, 14, 548533) updated_at=datetime.datetime(2024, 8, 26, 8, 28, 15, 843264) name='Klassifizierung Deutscher Sprachtexte' status='ready' guidelines='Vielen Dank, dass ihr euch Zeit nehmt, an dieser Umfrage teilzunehmen!\\n\\nIn meiner Masterarbeit geht es um Unterschiede zwischen gesprochener und geschriebener Sprache. Dieser Datensatz enthält Textbeispiele aus Podcast-Transkripten, Zeitungsartikeln und Blogs. Als grobes Ziel sollte jeder Teilnehmer der Umfrage 50 Beispiele kategorisieren, was voraussichtlich um die 10 Minuten dauert.\\n\\nEs hilft natürlich auch viel, wenn ihr es schafft, mehr als 50 Beispiele zu kategorisieren. Bitte nehmt euch dabei aber immer in Ruhe Zeit. Geratene oder hastig gegebene Antworten verfälschen nur das Gesamtergebnis.\\n\\nAlle Teilnehmer können den Datensatz parallel bearbeiten. Ein Textbeispiel ist fertig bearbeitet, sobald mindestens drei verschiedene Teilnehmer ihm ein Label gegeben haben. Mit einem Klick auf den Balken können der persönliche und gesamtheitliche Fortschritt eingesehen werden.\\n\\nEs gibt keine falsche oder richtige Vorgehensweise bei dieser Aufgabe. Es ist gut möglich, dass sich die Textbeispiele nicht immer klar einordnen lassen. Versucht also einfach, die Beispiele so gut es geht zuzuordnen.' allow_extra_metadata=False distribution=OverlapTaskDistributionModel(strategy='overlap', min_submitted=3) workspace_id=UUID('5ec1326c-50c8-4fc6-a318-48d7a0009afe') last_activity_at=datetime.datetime(2024, 8, 26, 8, 28, 15, 843264))"
      ]
     },
     "execution_count": 4,
     "metadata": {},
     "output_type": "execute_result"
    }
   ],
   "source": [
    "dataset = rg.Dataset(\n",
    "    name=f\"Klassifizierung Deutscher Sprachtexte\",\n",
    "    workspace=\"argilla\",\n",
    "    settings=settings,\n",
    "    client=client,\n",
    ")\n",
    "dataset.create()"
   ]
  },
  {
   "cell_type": "code",
   "execution_count": 5,
   "metadata": {},
   "outputs": [
    {
     "name": "stderr",
     "output_type": "stream",
     "text": [
      "/Users/Dagobert/miniforge3/envs/th24/lib/python3.12/site-packages/argilla/records/_mapping/_mapper.py:89: UserWarning: Keys ['text', 'label', '__index_level_0__', 'task_desc'] in data are not present in the mapping and will be ignored.\n",
      "  warnings.warn(f\"Keys {unknown_keys} in data are not present in the mapping and will be ignored.\")\n",
      "Sending records...: 5batch [00:03,  1.37batch/s]                    \n"
     ]
    },
    {
     "data": {
      "text/plain": [
       "DatasetRecords(Dataset(id=UUID('deb4cedc-c998-4e16-81b4-d97f22103866') inserted_at=datetime.datetime(2024, 8, 26, 8, 28, 14, 548533) updated_at=datetime.datetime(2024, 8, 26, 8, 28, 15, 843264) name='Klassifizierung Deutscher Sprachtexte' status='ready' guidelines='Vielen Dank, dass ihr euch Zeit nehmt, an dieser Umfrage teilzunehmen!\\n\\nIn meiner Masterarbeit geht es um Unterschiede zwischen gesprochener und geschriebener Sprache. Dieser Datensatz enthält Textbeispiele aus Podcast-Transkripten, Zeitungsartikeln und Blogs. Als grobes Ziel sollte jeder Teilnehmer der Umfrage 50 Beispiele kategorisieren, was voraussichtlich um die 10 Minuten dauert.\\n\\nEs hilft natürlich auch viel, wenn ihr es schafft, mehr als 50 Beispiele zu kategorisieren. Bitte nehmt euch dabei aber immer in Ruhe Zeit. Geratene oder hastig gegebene Antworten verfälschen nur das Gesamtergebnis.\\n\\nAlle Teilnehmer können den Datensatz parallel bearbeiten. Ein Textbeispiel ist fertig bearbeitet, sobald mindestens drei verschiedene Teilnehmer ihm ein Label gegeben haben. Mit einem Klick auf den Balken können der persönliche und gesamtheitliche Fortschritt eingesehen werden.\\n\\nEs gibt keine falsche oder richtige Vorgehensweise bei dieser Aufgabe. Es ist gut möglich, dass sich die Textbeispiele nicht immer klar einordnen lassen. Versucht also einfach, die Beispiele so gut es geht zuzuordnen.' allow_extra_metadata=False distribution=OverlapTaskDistributionModel(strategy='overlap', min_submitted=3) workspace_id=UUID('5ec1326c-50c8-4fc6-a318-48d7a0009afe') last_activity_at=datetime.datetime(2024, 8, 26, 8, 28, 15, 843264)))"
      ]
     },
     "execution_count": 5,
     "metadata": {},
     "output_type": "execute_result"
    }
   ],
   "source": [
    "from datasets import load_from_disk\n",
    "\n",
    "data = load_from_disk(\"../data/hf_datasets/german_speech_text_recognition\")\n",
    "\n",
    "task_descriptions = [task]*len(data[\"test\"][\"label\"])\n",
    "data = data[\"test\"].add_column(\"task_desc\", task_descriptions)\n",
    "\n",
    "dataset.records.log(\n",
    "    records=data,\n",
    "    mapping={\n",
    "        \"task_desc\": \"task\",\n",
    "        \"text\": \"example\",\n",
    "        \"label\": \"original_label\"\n",
    "        }\n",
    "    )"
   ]
  }
 ],
 "metadata": {
  "kernelspec": {
   "display_name": "ths",
   "language": "python",
   "name": "python3"
  },
  "language_info": {
   "codemirror_mode": {
    "name": "ipython",
    "version": 3
   },
   "file_extension": ".py",
   "mimetype": "text/x-python",
   "name": "python",
   "nbconvert_exporter": "python",
   "pygments_lexer": "ipython3",
   "version": "3.12.4"
  }
 },
 "nbformat": 4,
 "nbformat_minor": 2
}
