{
 "cells": [
  {
   "cell_type": "code",
   "execution_count": 1,
   "metadata": {},
   "outputs": [],
   "source": [
    "## Imports\n",
    "import pandas as pd\n",
    "\n"
   ]
  },
  {
   "cell_type": "markdown",
   "metadata": {},
   "source": [
    "**Read files**"
   ]
  },
  {
   "cell_type": "code",
   "execution_count": 2,
   "metadata": {},
   "outputs": [],
   "source": [
    "## Get the aligned sentences\n",
    "\n",
    "original_sentences = '../../../datasets_original/ew-sew_v2_sentence-aligned/sentence-aligned.v2/normal.aligned'\n",
    "simple_sentences = '../../../datasets_original/ew-sew_v2_sentence-aligned/sentence-aligned.v2/simple.aligned'"
   ]
  },
  {
   "cell_type": "code",
   "execution_count": 3,
   "metadata": {},
   "outputs": [
    {
     "data": {
      "text/html": [
       "<div>\n",
       "<style scoped>\n",
       "    .dataframe tbody tr th:only-of-type {\n",
       "        vertical-align: middle;\n",
       "    }\n",
       "\n",
       "    .dataframe tbody tr th {\n",
       "        vertical-align: top;\n",
       "    }\n",
       "\n",
       "    .dataframe thead th {\n",
       "        text-align: right;\n",
       "    }\n",
       "</style>\n",
       "<table border=\"1\" class=\"dataframe\">\n",
       "  <thead>\n",
       "    <tr style=\"text-align: right;\">\n",
       "      <th></th>\n",
       "      <th>original_sentence</th>\n",
       "      <th>simple_sentence</th>\n",
       "    </tr>\n",
       "  </thead>\n",
       "  <tbody>\n",
       "    <tr>\n",
       "      <th>0</th>\n",
       "      <td>It is the county seat of Alfalfa County .</td>\n",
       "      <td>It is the county seat of Alfalfa County .</td>\n",
       "    </tr>\n",
       "    <tr>\n",
       "      <th>1</th>\n",
       "      <td>Cherokee is a city in Alfalfa County , Oklahom...</td>\n",
       "      <td>Cherokee is a city of Oklahoma in the United S...</td>\n",
       "    </tr>\n",
       "    <tr>\n",
       "      <th>2</th>\n",
       "      <td>Skateboard decks are usually between 28 and 33...</td>\n",
       "      <td>Skateboard decks are normally between 28 and 3...</td>\n",
       "    </tr>\n",
       "    <tr>\n",
       "      <th>3</th>\n",
       "      <td>The underside of the deck can be printed with ...</td>\n",
       "      <td>The bottom of the deck can be printed with a d...</td>\n",
       "    </tr>\n",
       "    <tr>\n",
       "      <th>4</th>\n",
       "      <td>This was created by two surfers ; Ben Whatson ...</td>\n",
       "      <td>The longboard was made by two surfers ; Ben Wh...</td>\n",
       "    </tr>\n",
       "    <tr>\n",
       "      <th>...</th>\n",
       "      <td>...</td>\n",
       "      <td>...</td>\n",
       "    </tr>\n",
       "    <tr>\n",
       "      <th>167684</th>\n",
       "      <td>Caffiers is a commune in the Pas-de-Calais dep...</td>\n",
       "      <td>Caffiers is a commune . It is found in the reg...</td>\n",
       "    </tr>\n",
       "    <tr>\n",
       "      <th>167685</th>\n",
       "      <td>The population was 549 at the 2000 census .</td>\n",
       "      <td>549 people were living in Orange as of 2000 .</td>\n",
       "    </tr>\n",
       "    <tr>\n",
       "      <th>167686</th>\n",
       "      <td>Orange is a town in Juneau County , Wisconsin ...</td>\n",
       "      <td>Orange is a town of Juneau County in the state...</td>\n",
       "    </tr>\n",
       "    <tr>\n",
       "      <th>167687</th>\n",
       "      <td>Orainville is a commune in the Aisne departmen...</td>\n",
       "      <td>Orainville is a commune . It is found in the r...</td>\n",
       "    </tr>\n",
       "    <tr>\n",
       "      <th>167688</th>\n",
       "      <td>A text editor is a type of program used for ed...</td>\n",
       "      <td>A text editor is a program that is run on a co...</td>\n",
       "    </tr>\n",
       "  </tbody>\n",
       "</table>\n",
       "<p>167689 rows × 2 columns</p>\n",
       "</div>"
      ],
      "text/plain": [
       "                                        original_sentence  \\\n",
       "0               It is the county seat of Alfalfa County .   \n",
       "1       Cherokee is a city in Alfalfa County , Oklahom...   \n",
       "2       Skateboard decks are usually between 28 and 33...   \n",
       "3       The underside of the deck can be printed with ...   \n",
       "4       This was created by two surfers ; Ben Whatson ...   \n",
       "...                                                   ...   \n",
       "167684  Caffiers is a commune in the Pas-de-Calais dep...   \n",
       "167685        The population was 549 at the 2000 census .   \n",
       "167686  Orange is a town in Juneau County , Wisconsin ...   \n",
       "167687  Orainville is a commune in the Aisne departmen...   \n",
       "167688  A text editor is a type of program used for ed...   \n",
       "\n",
       "                                          simple_sentence  \n",
       "0               It is the county seat of Alfalfa County .  \n",
       "1       Cherokee is a city of Oklahoma in the United S...  \n",
       "2       Skateboard decks are normally between 28 and 3...  \n",
       "3       The bottom of the deck can be printed with a d...  \n",
       "4       The longboard was made by two surfers ; Ben Wh...  \n",
       "...                                                   ...  \n",
       "167684  Caffiers is a commune . It is found in the reg...  \n",
       "167685      549 people were living in Orange as of 2000 .  \n",
       "167686  Orange is a town of Juneau County in the state...  \n",
       "167687  Orainville is a commune . It is found in the r...  \n",
       "167688  A text editor is a program that is run on a co...  \n",
       "\n",
       "[167689 rows x 2 columns]"
      ]
     },
     "execution_count": 3,
     "metadata": {},
     "output_type": "execute_result"
    }
   ],
   "source": [
    "# Read the first TSV file\n",
    "original_df = pd.read_csv(original_sentences, sep='\\t', header=None, names=['unimportant_string_1', 'unimportant_number_1', 'original_sentence'])\n",
    "\n",
    "# Read the second TSV file\n",
    "simple_df = pd.read_csv(simple_sentences, sep='\\t', header=None, names=['unimportant_string_2', 'unimportant_number_2', 'simple_sentence'])\n",
    "\n",
    "# Extract the relevant columns\n",
    "original_column = original_df[['original_sentence']]\n",
    "simple_column = simple_df[['simple_sentence']]\n",
    "\n",
    "# Combine the DataFrames into one\n",
    "result_df = pd.concat([original_column, simple_column], axis=1)\n",
    "\n",
    "result_df\n"
   ]
  },
  {
   "cell_type": "markdown",
   "metadata": {},
   "source": [
    "*Get 50 original sentences*"
   ]
  },
  {
   "cell_type": "code",
   "execution_count": 4,
   "metadata": {},
   "outputs": [
    {
     "name": "stdout",
     "output_type": "stream",
     "text": [
      "It is the county seat of Alfalfa County .\n",
      "Cherokee is a city in Alfalfa County , Oklahoma , United States .\n",
      "Skateboard decks are usually between 28 and 33 inches long .\n",
      "The underside of the deck can be printed with a design by the manufacturer , blank , or decorated by any other means .\n",
      "This was created by two surfers ; Ben Whatson and Jonny Drapper .\n",
      "Some of them have special materials that help to keep the deck from breaking : such as fiberglass , bamboo , resin , Kevlar , carbon fiber , aluminum , and plastic .\n",
      "`` Old school '' boards -LRB- those made in the 1970s â `` 80s or modern boards that mimic their shape -RRB- are generally wider and often have only one kicktail .\n",
      "One of the first deck companies was called `` Drapped '' taken from Jonny 's second name .\n",
      "Grip tape , when applied to the top surface of a skateboard , gives a skater 's feet grip on the deck .\n",
      "Modern decks vary in size , but most are 7 to 10.5 inches wide .\n",
      "Variants of the 1970s often have little or no concavity , whereas 1980s models have deeper concavities and steeper kicktails .\n",
      "The usual parts to design a complete skateboard are the deck , trucks , wheels , bearings , hardware , and griptape .\n",
      "This is mostly ridden down hills or by the beach to represent the riding of a wave in the ocean on a surfboard .\n",
      "It is most often black but can come in a variety of colors including clear , allowing the top of the deck to be decorated .\n",
      "The longboard , a common variant of the skateboard , has a longer deck .\n",
      "Wider decks can be used for greater stability when transition or ramp skating .\n",
      "Edmilson Alves -LRB- born February 17 , 1976 -RRB- , is a Brazilian midfielder who currently plays for Roasso Kumamoto in the J. League Division 2 .\n",
      "Les Oubeaux is a commune in the Calvados department in the Basse-Normandie region in northwestern France .\n",
      "It is part of the Mitsubishi keiretsu , formerly the biggest industrial group in Japan , and was formed in 1970 from the automotive division of Mitsubishi Heavy Industries .\n",
      "This template , like some other is a workaround for wikimarkup behaviors .\n",
      "In 1998 , she became the second actress -LRB- after Liza Minnelli -RRB- to win a Golden Globe Award , an Academy Award and an Emmy Award in the same year .\n",
      "Penin is a commune in the Pas-de-Calais department in the Nord-Pas-de-Calais region of France .\n",
      "Cardiff has many cultural sites varying from the historical Cardiff Castle and out of town Castell Coch to the more modern Wales Millennium Centre and Cardiff Bay . Cardiff was a finalist in the European Capital of Culture 2008 .\n",
      "Sporting venues in the city include the Millennium Stadium -LRB- the national stadium for the Wales national rugby union team and the Wales national football team -RRB- , SWALEC Stadium -LRB- the home of Glamorgan County Cricket Club -RRB- , Cardiff City Stadium -LRB- the home of Cardiff City football team and Cardiff Blues rugby union team -RRB- , Cardiff International Sports Stadium -LRB- the home of Cardiff Amateur Athletic Club -RRB- and Cardiff Arms Park -LRB- the home of Cardiff Rugby Club -RRB- .\n",
      "Annual events in Cardiff that have become regular appearances in Cardiff 's calendar include Sparks in the Park , The Great British Cheese Festival , Cardiff Mardi Gras , Cardiff Winter Wonderland and Cardiff Festival .\n",
      "PuymÃ ras is a commune in the Vaucluse department in the Provence-Alpes-C Ã te d'Azur region in southeastern France .\n",
      "Gastines is a commune in the Mayenne department in north-western France .\n",
      "The Haiti national football team represents Haiti in association football and is controlled by the FÃ dÃ ration HaÃ tienne de Football , the governing body for football in Haiti .\n",
      "The Chenab then joins the Indus at Mithankot , Pakistan .\n",
      "It then merges with the Sutlej River near Uch Sharif , Pakistan to form the Panjnad or the ` Five Rivers ' , the fifth being the Beas River which joins the Satluj near Ferozepur , India .\n",
      "The Chenab River -LRB- , , , , , literally : ` Moon -LRB- Chan -RRB- Ú Ù River -LRB- aab -RRB- ' Ø cents Ø -RRB- is formed by the confluence of the Chandra and Bhaga rivers at Tandi located in the upper Himalayas in the Lahul and Spiti District of Himachal Pradesh , India .\n",
      "Ø Ù 3\\/4 Ù Ø Ø Û Ø Ù .\n",
      "It flows through the Jammu region of Jammu and Kashmir into the plains of the Punjab , forming the boundary between the Rechna and Jech interfluves -LRB- Doabs in Persian -RRB- .\n",
      "Ù and then by the Ravi River Ahmedpur Sial Ø Ø Ù\n",
      "It is joined by the Jhelum River at Trimmu Ø Ø Û Ù\n",
      "The total length of the Chenab is approximately 960 kilometres .\n",
      "In its upper reaches it is also known as the ' .\n",
      "CondÃ - sur-Ifs is a commune in the Calvados department in the Basse-Normandie region in northwestern France .\n",
      "The main bar at King 's is far older , and is the site of more informal meetings between students .\n",
      "The bar has been traditionally painted a socialist red , including a depiction of a hammer and sickle .\n",
      "King 's also has a dedicated Coffee Shop adjacent to the bar .\n",
      "Henry VI is not completely forgotten at the College , however , the Saturday after the end of Michaelmas term each year is Founder 's Day which begins with a Founder 's Eucharist in the chapel , followed by a Founder 's Breakfast with ale and culminating in a sumptuous dinner in his memory called `` Founder 's Feast '' to which all members of College in their last year of studies are invited .\n",
      "The enduring popularity of the June Event is due largely to its affordability ; a ticket generally costs around Â # 60 rather than the Â # 90 â `` 200 which is common for the May Balls of other colleges .\n",
      "A Vacation Bar , or `` vac bar '' , also sometimes operates during the summer vacation , run by -LRB- and mainly for -RRB- the graduate students who remain in College throughout the year .\n",
      "Founded in 1441 , the college 's formal name is `` The King 's College of Our Lady and St. Nicholas in Cambridge '' .\n",
      "Founded in 1441 , the college 's formal name is `` The King 's College of Our Lady and St. Nicholas in Cambridge '' . It is usually referred to simply as `` King 's '' within the university .\n",
      "King 's has a venue known as the Cellar Bar , a small room in the basement of the college , which regularly acts as a music venue .\n",
      "King 's College is a constituent college of the University of Cambridge , England .\n",
      "The student union has a long record of left wing activism .\n",
      "Whereas most Cambridge colleges celebrate May Week with a May Ball -LRB- which actually falls in June -RRB- , since the early 1980s King 's has instead held a June Event -LRB- a more informal version of a May Ball -RRB- known as King 's Affair .\n"
     ]
    }
   ],
   "source": [
    "for s in result_df[\"original_sentence\"][:50]:\n",
    "    print(s)"
   ]
  }
 ],
 "metadata": {
  "kernelspec": {
   "display_name": "Python 3.8.13 ('RobNLP1')",
   "language": "python",
   "name": "python3"
  },
  "language_info": {
   "codemirror_mode": {
    "name": "ipython",
    "version": 3
   },
   "file_extension": ".py",
   "mimetype": "text/x-python",
   "name": "python",
   "nbconvert_exporter": "python",
   "pygments_lexer": "ipython3",
   "version": "3.8.13"
  },
  "orig_nbformat": 4,
  "vscode": {
   "interpreter": {
    "hash": "7b71816f6790719d96cc16026778363c9299e5704953337a4f00b4f0c996fa0c"
   }
  }
 },
 "nbformat": 4,
 "nbformat_minor": 2
}
