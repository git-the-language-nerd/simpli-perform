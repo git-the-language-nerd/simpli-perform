{
 "cells": [
  {
   "cell_type": "code",
   "execution_count": 1,
   "metadata": {},
   "outputs": [],
   "source": [
    "## Imports\n",
    "import pandas as pd"
   ]
  },
  {
   "cell_type": "markdown",
   "metadata": {},
   "source": [
    "**HEADER LEVEL 1**"
   ]
  },
  {
   "cell_type": "code",
   "execution_count": 5,
   "metadata": {},
   "outputs": [
    {
     "data": {
      "text/html": [
       "<div>\n",
       "<style scoped>\n",
       "    .dataframe tbody tr th:only-of-type {\n",
       "        vertical-align: middle;\n",
       "    }\n",
       "\n",
       "    .dataframe tbody tr th {\n",
       "        vertical-align: top;\n",
       "    }\n",
       "\n",
       "    .dataframe thead th {\n",
       "        text-align: right;\n",
       "    }\n",
       "</style>\n",
       "<table border=\"1\" class=\"dataframe\">\n",
       "  <thead>\n",
       "    <tr style=\"text-align: right;\">\n",
       "      <th></th>\n",
       "      <th>Novel</th>\n",
       "      <th>Chapter</th>\n",
       "      <th>L5</th>\n",
       "      <th>L4</th>\n",
       "      <th>L3</th>\n",
       "      <th>Line</th>\n",
       "    </tr>\n",
       "  </thead>\n",
       "  <tbody>\n",
       "    <tr>\n",
       "      <th>0</th>\n",
       "      <td>0</td>\n",
       "      <td>7.2</td>\n",
       "      <td>ولكنها تحركت!</td>\n",
       "      <td>ولكنها تحركت!</td>\n",
       "      <td>ولكنها تحركت!</td>\n",
       "      <td>0</td>\n",
       "    </tr>\n",
       "    <tr>\n",
       "      <th>1</th>\n",
       "      <td>0</td>\n",
       "      <td>7.2</td>\n",
       "      <td>إما لأنها أحست به وإما لأن الوقفة أتعبتها أو أ...</td>\n",
       "      <td>إما لأنها أحست به وإما لأن الوقفة أتعبتها أو أ...</td>\n",
       "      <td>إما لأنها أحست به وإما لأن الوقفة أتعبتها أو أ...</td>\n",
       "      <td>0</td>\n",
       "    </tr>\n",
       "    <tr>\n",
       "      <th>2</th>\n",
       "      <td>0</td>\n",
       "      <td>7.2</td>\n",
       "      <td>فرأته فصبغ الدم وجهها وارتدت،</td>\n",
       "      <td>فرأته فصبغ الدم وجهها وارتدت،</td>\n",
       "      <td>فرأته فصبغ الدم وجهها وارتدت،</td>\n",
       "      <td>0</td>\n",
       "    </tr>\n",
       "    <tr>\n",
       "      <th>3</th>\n",
       "      <td>0</td>\n",
       "      <td>7.2</td>\n",
       "      <td>ولكنها لم تتجهم له وقالت وفي عينها نظرة عتب ور...</td>\n",
       "      <td>ولكنها لم تعبس له وقالت وفي عينها نظرة عتب ورض...</td>\n",
       "      <td>ولكنها لم تعبس له وقالت وفي عينها نظرة عتب ورض...</td>\n",
       "      <td>0</td>\n",
       "    </tr>\n",
       "    <tr>\n",
       "      <th>4</th>\n",
       "      <td>0</td>\n",
       "      <td>7.2</td>\n",
       "      <td>ألك هنا كثير؟</td>\n",
       "      <td>ألك هنا كثير؟</td>\n",
       "      <td>ألك هنا كثير؟</td>\n",
       "      <td>0</td>\n",
       "    </tr>\n",
       "  </tbody>\n",
       "</table>\n",
       "</div>"
      ],
      "text/plain": [
       "   Novel  Chapter                                                 L5  \\\n",
       "0      0      7.2                                      ولكنها تحركت!   \n",
       "1      0      7.2  إما لأنها أحست به وإما لأن الوقفة أتعبتها أو أ...   \n",
       "2      0      7.2                      فرأته فصبغ الدم وجهها وارتدت،   \n",
       "3      0      7.2  ولكنها لم تتجهم له وقالت وفي عينها نظرة عتب ور...   \n",
       "4      0      7.2                                      ألك هنا كثير؟   \n",
       "\n",
       "                                                  L4  \\\n",
       "0                                      ولكنها تحركت!   \n",
       "1  إما لأنها أحست به وإما لأن الوقفة أتعبتها أو أ...   \n",
       "2                      فرأته فصبغ الدم وجهها وارتدت،   \n",
       "3  ولكنها لم تعبس له وقالت وفي عينها نظرة عتب ورض...   \n",
       "4                                      ألك هنا كثير؟   \n",
       "\n",
       "                                                  L3  Line  \n",
       "0                                      ولكنها تحركت!     0  \n",
       "1  إما لأنها أحست به وإما لأن الوقفة أتعبتها أو أ...     0  \n",
       "2                      فرأته فصبغ الدم وجهها وارتدت،     0  \n",
       "3  ولكنها لم تعبس له وقالت وفي عينها نظرة عتب ورض...     0  \n",
       "4                                      ألك هنا كثير؟     0  "
      ]
     },
     "execution_count": 5,
     "metadata": {},
     "output_type": "execute_result"
    }
   ],
   "source": [
    "\n",
    "\n",
    "train_og = df = pd.read_csv('../../../datasets_original/samer-simplification-corpus-v1/samer-simplification-corpus-v1/data/train.tsv', sep='\\t')\n",
    "dev_og = df = pd.read_csv('../../../datasets_original/samer-simplification-corpus-v1/samer-simplification-corpus-v1/data/dev.tsv', sep='\\t')\n",
    "test_og = df = pd.read_csv('../../../datasets_original/samer-simplification-corpus-v1/samer-simplification-corpus-v1/data/test.tsv', sep='\\t')\n",
    "\n",
    "test_og.head()\n"
   ]
  }
 ],
 "metadata": {
  "kernelspec": {
   "display_name": "Python 3.10.6 64-bit",
   "language": "python",
   "name": "python3"
  },
  "language_info": {
   "codemirror_mode": {
    "name": "ipython",
    "version": 3
   },
   "file_extension": ".py",
   "mimetype": "text/x-python",
   "name": "python",
   "nbconvert_exporter": "python",
   "pygments_lexer": "ipython3",
   "version": "3.8.13"
  },
  "orig_nbformat": 4,
  "vscode": {
   "interpreter": {
    "hash": "26de051ba29f2982a8de78e945f0abaf191376122a1563185a90213a26c5da77"
   }
  }
 },
 "nbformat": 4,
 "nbformat_minor": 2
}
